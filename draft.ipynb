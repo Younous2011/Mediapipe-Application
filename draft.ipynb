{
 "cells": [
  {
   "cell_type": "code",
   "execution_count": 1,
   "metadata": {},
   "outputs": [],
   "source": [
    "IMAGE_FILES = ['./imgs/younous.png', './imgs/opened_mouth.jpg']"
   ]
  },
  {
   "cell_type": "code",
   "execution_count": 2,
   "metadata": {},
   "outputs": [
    {
     "name": "stdout",
     "output_type": "stream",
     "text": [
      "./imgs/younous.png\n"
     ]
    }
   ],
   "source": [
    "string = IMAGE_FILES[0]\n",
    "print(string)"
   ]
  },
  {
   "cell_type": "code",
   "execution_count": 3,
   "metadata": {},
   "outputs": [
    {
     "data": {
      "text/plain": [
       "'./output/younous.png'"
      ]
     },
     "execution_count": 3,
     "metadata": {},
     "output_type": "execute_result"
    }
   ],
   "source": [
    "def output_path_fn(path, ext):\n",
    "    basename = path.split(\"/\")[-1]\n",
    "    basename_n = basename.split(\".\")[0]\n",
    "    basename_json = basename_n + \".\" + ext\n",
    "    path_json = \"./output/\" + basename_json\n",
    "    return path_json\n",
    "\n",
    "output_path_fn(string, \"png\")"
   ]
  },
  {
   "cell_type": "code",
   "execution_count": 4,
   "metadata": {},
   "outputs": [
    {
     "name": "stdout",
     "output_type": "stream",
     "text": [
      "./output/younous.json\n"
     ]
    }
   ],
   "source": [
    "name = string.split('.')\n",
    "filename = name[1].split('/')\n",
    "\n",
    "print(\"./output/\" + filename[-1] + \".json\")"
   ]
  },
  {
   "cell_type": "code",
   "execution_count": 5,
   "metadata": {},
   "outputs": [],
   "source": [
    "import numpy as np"
   ]
  },
  {
   "cell_type": "code",
   "execution_count": 6,
   "metadata": {},
   "outputs": [],
   "source": [
    "def limitless_ar(my_array:np.array, limit:int):\n",
    "    result = True\n",
    "    for i in range(len(my_array)):\n",
    "        if my_array[i] > limit:\n",
    "            result = False\n",
    "    \n",
    "    return result"
   ]
  },
  {
   "cell_type": "code",
   "execution_count": 7,
   "metadata": {},
   "outputs": [
    {
     "name": "stdout",
     "output_type": "stream",
     "text": [
      "True\n"
     ]
    }
   ],
   "source": [
    "print(limitless_ar([4, 7, 7], limit=8))"
   ]
  },
  {
   "cell_type": "code",
   "execution_count": 8,
   "metadata": {},
   "outputs": [
    {
     "data": {
      "text/plain": [
       "False"
      ]
     },
     "execution_count": 8,
     "metadata": {},
     "output_type": "execute_result"
    }
   ],
   "source": [
    "def limitless_ar2(my_array:np.array, limit:int):\n",
    "    return (my_array < limit).all()\n",
    "\n",
    "limitless_ar2(np.array([5, 10, 8]), 9)"
   ]
  },
  {
   "cell_type": "code",
   "execution_count": 9,
   "metadata": {},
   "outputs": [
    {
     "data": {
      "text/plain": [
       "True"
      ]
     },
     "execution_count": 9,
     "metadata": {},
     "output_type": "execute_result"
    }
   ],
   "source": [
    "my_array = np.array([5, 10, 8])\n",
    "limit = 12\n",
    "(my_array < limit).all()"
   ]
  },
  {
   "cell_type": "code",
   "execution_count": null,
   "metadata": {},
   "outputs": [],
   "source": []
  }
 ],
 "metadata": {
  "kernelspec": {
   "display_name": "Python 3.8.10 ('mp_env': venv)",
   "language": "python",
   "name": "python3"
  },
  "language_info": {
   "codemirror_mode": {
    "name": "ipython",
    "version": 3
   },
   "file_extension": ".py",
   "mimetype": "text/x-python",
   "name": "python",
   "nbconvert_exporter": "python",
   "pygments_lexer": "ipython3",
   "version": "3.8.10"
  },
  "orig_nbformat": 4,
  "vscode": {
   "interpreter": {
    "hash": "48e12a0a386400ce72904ea6e56f3776dca56ab35b8fa821818ab14fbc0f25c3"
   }
  }
 },
 "nbformat": 4,
 "nbformat_minor": 2
}
